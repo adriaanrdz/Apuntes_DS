{
  "cells": [
    {
      "cell_type": "markdown",
      "metadata": {
        "lang": "en"
      },
      "source": [
        "# Estructuras de datos"
      ]
    },
    {
      "cell_type": "markdown",
      "metadata": {},
      "source": [
        "Hay 4 elementos en Python que nos permiten almacenar colecciones de datos.\n",
        "- Listas\n",
        "- Tuplas\n",
        "- Sets\n",
        "- Diccionarios"
      ]
    },
    {
      "cell_type": "code",
      "execution_count": null,
      "metadata": {},
      "outputs": [],
      "source": []
    },
    {
      "cell_type": "markdown",
      "metadata": {},
      "source": [
        "### Listas"
      ]
    },
    {
      "cell_type": "markdown",
      "metadata": {
        "lang": "en"
      },
      "source": [
        "Las listas pueden contener diferentes tipos de datos."
      ]
    },
    {
      "cell_type": "code",
      "execution_count": null,
      "metadata": {},
      "outputs": [],
      "source": []
    },
    {
      "cell_type": "markdown",
      "metadata": {
        "lang": "en"
      },
      "source": [
        "#### Métodos de lista\n",
        "`append` Agrega un elemento al final de la lista."
      ]
    },
    {
      "cell_type": "code",
      "execution_count": 17,
      "metadata": {},
      "outputs": [
        {
          "data": {
            "text/plain": [
              "['Ana', 'Luis', ['Miguel', 'Lucía']]"
            ]
          },
          "execution_count": 17,
          "metadata": {},
          "output_type": "execute_result"
        }
      ],
      "source": [
        "nombres = [\"Ana\", \"Luis\"]\n",
        "nombres_2 = [\"Miguel\", \"Lucía\"]\n",
        "edades = [25, 30, 22, 28]\n",
        "nombres.append(nombres_2)\n",
        "nombres "
      ]
    },
    {
      "cell_type": "markdown",
      "metadata": {
        "lang": "en"
      },
      "source": [
        "`extend` Extiende la lista añadiéndole todos los elementos del iterable"
      ]
    },
    {
      "cell_type": "code",
      "execution_count": 18,
      "metadata": {},
      "outputs": [
        {
          "data": {
            "text/plain": [
              "['Ana', 'Luis', 'Miguel', 'Lucía']"
            ]
          },
          "execution_count": 18,
          "metadata": {},
          "output_type": "execute_result"
        }
      ],
      "source": [
        "nombres = [\"Ana\", \"Luis\"]\n",
        "nombres_2 = [\"Miguel\", \"Lucía\"]\n",
        "nombres.extend(nombres_2)\n",
        "nombres "
      ]
    },
    {
      "cell_type": "markdown",
      "metadata": {
        "lang": "en"
      },
      "source": [
        "`insert` Inserta un elemento en una posición dada. El primer argumento es el índice del elemento que se insertará antes, por lo que a.insert(0, x) inserta al principio de la lista y a.insert(len(a), x) es equivalente a a.append(x)."
      ]
    },
    {
      "cell_type": "code",
      "execution_count": 24,
      "metadata": {},
      "outputs": [
        {
          "data": {
            "text/plain": [
              "['Ana', 'HOLA', 'María', 'HOLA', 'Luis', 'Miguel', 'Lucía']"
            ]
          },
          "execution_count": 24,
          "metadata": {},
          "output_type": "execute_result"
        }
      ],
      "source": [
        "nombres.insert(3, \"HOLA\")\n",
        "nombres"
      ]
    },
    {
      "cell_type": "markdown",
      "metadata": {
        "lang": "en"
      },
      "source": [
        "`remove` Elimina el primer elemento de la lista cuyo valor sea x. Lanza un ValueError si no existe dicho elemento."
      ]
    },
    {
      "cell_type": "code",
      "execution_count": 26,
      "metadata": {},
      "outputs": [
        {
          "data": {
            "text/plain": [
              "['Ana', 'María', 'HOLA', 'Luis', 'Miguel', 'Lucía']"
            ]
          },
          "execution_count": 26,
          "metadata": {},
          "output_type": "execute_result"
        }
      ],
      "source": [
        "nombres3 = nombres.copy()\n",
        "nombres3.remove(\"HOLA\")\n",
        "nombres3"
      ]
    },
    {
      "cell_type": "code",
      "execution_count": 25,
      "metadata": {},
      "outputs": [
        {
          "data": {
            "text/plain": [
              "['Ana', 'María', 'Luis', 'Miguel', 'Lucía']"
            ]
          },
          "execution_count": 25,
          "metadata": {},
          "output_type": "execute_result"
        }
      ],
      "source": [
        "[i for i in nombres if i != \"HOLA\"]"
      ]
    },
    {
      "cell_type": "markdown",
      "metadata": {
        "lang": "en"
      },
      "source": [
        "`pop` extrae el elemento de la lista en la posición indicada y lo devuelve. Si no se especifica ningún índice, a.pop() extrae y devuelve el último elemento de la lista."
      ]
    },
    {
      "cell_type": "code",
      "execution_count": 34,
      "metadata": {},
      "outputs": [
        {
          "data": {
            "text/plain": [
              "'Lucía'"
            ]
          },
          "execution_count": 34,
          "metadata": {},
          "output_type": "execute_result"
        }
      ],
      "source": [
        "nombres4 = nombres3.copy()\n",
        "nombres4.pop()\n"
      ]
    },
    {
      "cell_type": "markdown",
      "metadata": {
        "lang": "en"
      },
      "source": [
        "`clear` Elimina todos los elementos de la lista"
      ]
    },
    {
      "cell_type": "code",
      "execution_count": 37,
      "metadata": {},
      "outputs": [
        {
          "data": {
            "text/plain": [
              "[]"
            ]
          },
          "execution_count": 37,
          "metadata": {},
          "output_type": "execute_result"
        }
      ],
      "source": [
        "nombres.clear()\n",
        "nombres "
      ]
    },
    {
      "cell_type": "markdown",
      "metadata": {
        "lang": "en"
      },
      "source": [
        "`count` Devuelve el número de veces que x aparece en la lista."
      ]
    },
    {
      "cell_type": "code",
      "execution_count": 40,
      "metadata": {},
      "outputs": [
        {
          "data": {
            "text/plain": [
              "0"
            ]
          },
          "execution_count": 40,
          "metadata": {},
          "output_type": "execute_result"
        }
      ],
      "source": [
        "nombres.count(\"HOLA\")"
      ]
    },
    {
      "cell_type": "markdown",
      "metadata": {
        "lang": "en"
      },
      "source": [
        "`list.sort()` Véase también [sorted()](https://docs.python.org/3/howto/sorting.html)."
      ]
    },
    {
      "cell_type": "code",
      "execution_count": null,
      "metadata": {},
      "outputs": [],
      "source": []
    },
    {
      "cell_type": "markdown",
      "metadata": {
        "lang": "en"
      },
      "source": [
        "`list.reverse()`\n",
        "Invierte los elementos de la lista en su lugar."
      ]
    },
    {
      "cell_type": "code",
      "execution_count": null,
      "metadata": {},
      "outputs": [],
      "source": []
    },
    {
      "cell_type": "markdown",
      "metadata": {
        "lang": "en"
      },
      "source": [
        "`slicing` no es un método como tal, pero podemos jugar con los elementos de las listas y sus posiciones"
      ]
    },
    {
      "cell_type": "code",
      "execution_count": null,
      "metadata": {},
      "outputs": [],
      "source": []
    },
    {
      "cell_type": "markdown",
      "metadata": {},
      "source": [
        "`start, step, stop`"
      ]
    },
    {
      "cell_type": "code",
      "execution_count": null,
      "metadata": {},
      "outputs": [],
      "source": []
    },
    {
      "cell_type": "markdown",
      "metadata": {},
      "source": [
        "### Tuplas"
      ]
    },
    {
      "cell_type": "markdown",
      "metadata": {
        "lang": "en"
      },
      "source": [
        "Las tuplas en Python son un tipo de datos o estructura que permite almacenar datos de forma muy similar a las listas, excepto que son inmutables. Por lo tanto, no podremos:\n",
        "- cambiar los elementos\n",
        "- agregar nuevos valores"
      ]
    },
    {
      "cell_type": "markdown",
      "metadata": {},
      "source": [
        "- Listas: []\n",
        "- Tuplas: (), contienen diferentes tipos de datos. Tienen menos métodos porque están pensadas para ser un poco más inmutables. Python las utiliza mucho a nivel interno. "
      ]
    },
    {
      "cell_type": "markdown",
      "metadata": {
        "lang": "en"
      },
      "source": [
        "Ventajas de las tuplas\n",
        "* Más rápidas\n",
        "* Los datos no se pueden modificar\n",
        "\n",
        "También es posible que utilicemos tuplas cuando queramos devolver múltiples valores en el `return` de una función"
      ]
    },
    {
      "cell_type": "code",
      "execution_count": null,
      "metadata": {},
      "outputs": [],
      "source": []
    },
    {
      "cell_type": "markdown",
      "metadata": {},
      "source": [
        "-----------------------------"
      ]
    },
    {
      "cell_type": "markdown",
      "metadata": {},
      "source": [
        "##### Challenge 1: Tuplas\n",
        "\n",
        "¿Sabías que puedes crear tuplas con un solo elemento?\n",
        "\n",
        "**En la celda a continuación, define una variable `tup` con un solo elemento `\"p\"`.**<br>"
      ]
    },
    {
      "cell_type": "code",
      "execution_count": null,
      "metadata": {},
      "outputs": [],
      "source": []
    },
    {
      "cell_type": "markdown",
      "metadata": {},
      "source": [
        "#### Ahora intenta agregar los siguientes elementos a `tup`. \n",
        "\n",
        "¿Puedes hacerlo? Explícalo.\n",
        "\n",
        "```\n",
        "\"y\", \"t\", \"h\", \"o\", \"n\"\n",
        "```"
      ]
    },
    {
      "cell_type": "code",
      "execution_count": null,
      "metadata": {},
      "outputs": [],
      "source": []
    },
    {
      "cell_type": "markdown",
      "metadata": {},
      "source": [
        "#### Divida `tup` en `tup1` y `tup2` con 4 elementos en cada uno. \n",
        "\n",
        "`tup1` debería ser `(\"p\", \"y\", \"t)` y `tup2` debería ser `(\"h\", \"o\", \"n\")`.\n",
        "\n",
        "*Sugerencia: use números de índice positivos para la asignación de `tup1` y use números de índice negativos para la asignación de `tup2`. Los números de índice positivos cuentan desde el principio, mientras que los números de índice negativos cuentan desde el final de la secuencia.*\n",
        "\n",
        "También imprima `tup1` y `tup2`."
      ]
    },
    {
      "cell_type": "code",
      "execution_count": null,
      "metadata": {},
      "outputs": [],
      "source": []
    },
    {
      "cell_type": "markdown",
      "metadata": {},
      "source": [
        "#### Agregue `tup1` y `tup2` en `tup3` usando el operador `+`.\n",
        "\n",
        "Luego imprima `tup3` y verifique si `tup3` es igual a `tup`."
      ]
    },
    {
      "cell_type": "code",
      "execution_count": null,
      "metadata": {},
      "outputs": [],
      "source": []
    },
    {
      "cell_type": "markdown",
      "metadata": {},
      "source": [
        "#### ¿Cuál es el número de índice de `\"h\"` en `tup3`?"
      ]
    },
    {
      "cell_type": "code",
      "execution_count": null,
      "metadata": {},
      "outputs": [],
      "source": []
    },
    {
      "cell_type": "markdown",
      "metadata": {},
      "source": [
        "#### Ahora, usa un bucle FOR para verificar si cada letra de la siguiente lista está presente en `tup3`:\n",
        "\n",
        "```\n",
        "letters = [\"a\", \"b\", \"c\", \"d\", \"e\"]\n",
        "```\n",
        "\n",
        "Para cada letra que verifiques, imprime `True` si está presente en `tup3`, de lo contrario imprime `False`.\n",
        "\n",
        "*Sugerencia: solo necesitas hacer un bucle en `letters`. No necesitas hacer un bucle en `tup3` porque hay un operador de Python `in` que puedes usar. Consulta la [referencia](https://stackoverflow.com/questions/17920147/how-to-check-if-a-tuple-contains-an-element-in-python).*"
      ]
    },
    {
      "cell_type": "code",
      "execution_count": null,
      "metadata": {},
      "outputs": [],
      "source": []
    },
    {
      "cell_type": "markdown",
      "metadata": {},
      "source": [
        "#### ¿Cuántas veces aparece cada letra de `letters` en `tup3`?\n",
        "\n",
        "Imprime la cantidad de veces que aparece cada letra."
      ]
    },
    {
      "cell_type": "code",
      "execution_count": null,
      "metadata": {},
      "outputs": [],
      "source": []
    },
    {
      "cell_type": "markdown",
      "metadata": {},
      "source": [
        "-----------------------------"
      ]
    },
    {
      "cell_type": "markdown",
      "metadata": {
        "slideshow": {
          "slide_type": "notes"
        }
      },
      "source": [
        "### Sets (conjuntos)\n",
        "Los sets (conjuntos) se utilizan para almacenar varios elementos en una única variable. A diferencia de las listas, contienen elementos individuales y no tienen un orden."
      ]
    },
    {
      "attachments": {
        "image.png": {
          "image/png": "[encoded data removed]"
        }
      },
      "cell_type": "markdown",
      "metadata": {},
      "source": [
        "![image.png](attachment:image.png)"
      ]
    },
    {
      "cell_type": "code",
      "execution_count": null,
      "metadata": {},
      "outputs": [],
      "source": []
    },
    {
      "cell_type": "markdown",
      "metadata": {
        "lang": "en"
      },
      "source": [
        "`add` Agrega un elemento al conjunto"
      ]
    },
    {
      "cell_type": "code",
      "execution_count": null,
      "metadata": {},
      "outputs": [],
      "source": []
    },
    {
      "cell_type": "markdown",
      "metadata": {
        "lang": "en"
      },
      "source": [
        "`clear` Borra todos los elementos del conjunto"
      ]
    },
    {
      "cell_type": "code",
      "execution_count": null,
      "metadata": {},
      "outputs": [],
      "source": []
    },
    {
      "cell_type": "markdown",
      "metadata": {
        "lang": "en"
      },
      "source": [
        "`copy` Devuelve una copia del conjunto"
      ]
    },
    {
      "cell_type": "code",
      "execution_count": null,
      "metadata": {},
      "outputs": [],
      "source": []
    },
    {
      "cell_type": "markdown",
      "metadata": {
        "lang": "en"
      },
      "source": [
        "`difference()` Devuelve un conjunto que contiene la diferencia entre dos o más conjuntos. Lo que realmente devuelve son los elementos que están SÓLO en el primer conjunto."
      ]
    },
    {
      "cell_type": "code",
      "execution_count": null,
      "metadata": {},
      "outputs": [],
      "source": []
    },
    {
      "cell_type": "markdown",
      "metadata": {},
      "source": [
        "`discard` y `remove`: el método incorporado discard() en Python elimina el elemento del conjunto solo si el elemento está presente en el conjunto. Si el elemento no está presente en el conjunto, no se genera ningún error ni excepción y se imprime el conjunto original."
      ]
    },
    {
      "cell_type": "markdown",
      "metadata": {
        "lang": "en"
      },
      "source": [
        "`discard` Elimina el elemento especificado"
      ]
    },
    {
      "cell_type": "code",
      "execution_count": null,
      "metadata": {},
      "outputs": [],
      "source": []
    },
    {
      "cell_type": "markdown",
      "metadata": {
        "lang": "en"
      },
      "source": [
        "`remove` Elimina el elemento especificado"
      ]
    },
    {
      "cell_type": "code",
      "execution_count": null,
      "metadata": {},
      "outputs": [],
      "source": []
    },
    {
      "cell_type": "markdown",
      "metadata": {
        "lang": "en"
      },
      "source": [
        "`intersection()` Devuelve un conjunto que es la intersección de dos o más conjuntos"
      ]
    },
    {
      "cell_type": "code",
      "execution_count": null,
      "metadata": {},
      "outputs": [],
      "source": []
    },
    {
      "cell_type": "markdown",
      "metadata": {
        "lang": "en"
      },
      "source": [
        "`issubset` Devuelve si otro conjunto contiene o no este conjunto"
      ]
    },
    {
      "cell_type": "code",
      "execution_count": null,
      "metadata": {},
      "outputs": [],
      "source": []
    },
    {
      "cell_type": "markdown",
      "metadata": {},
      "source": [
        "## Código"
      ]
    },
    {
      "cell_type": "markdown",
      "metadata": {
        "lang": "en"
      },
      "source": [
        "`issuperset` Devuelve si este conjunto contiene otro conjunto o no"
      ]
    },
    {
      "cell_type": "code",
      "execution_count": null,
      "metadata": {},
      "outputs": [],
      "source": []
    },
    {
      "cell_type": "markdown",
      "metadata": {
        "lang": "en"
      },
      "source": [
        "`pop` Elimina un elemento del conjunto. Elimina el primer elemento de un conjunto y, además, nos lo devuelve. Se diferencia de las listas que no tienen parámetros a los que pasar un índice."
      ]
    },
    {
      "cell_type": "code",
      "execution_count": null,
      "metadata": {},
      "outputs": [],
      "source": []
    },
    {
      "cell_type": "markdown",
      "metadata": {
        "lang": "en"
      },
      "source": [
        "`union` Devuelve un conjunto que contiene la unión de conjuntos"
      ]
    },
    {
      "cell_type": "code",
      "execution_count": null,
      "metadata": {},
      "outputs": [],
      "source": []
    },
    {
      "cell_type": "markdown",
      "metadata": {
        "lang": "en"
      },
      "source": [
        "`update` Actualiza el conjunto con otro conjunto o cualquier otro iterable. No devuelve uno nuevo, solo actualiza el anterior."
      ]
    },
    {
      "cell_type": "code",
      "execution_count": null,
      "metadata": {},
      "outputs": [],
      "source": []
    },
    {
      "cell_type": "markdown",
      "metadata": {},
      "source": [
        "### 💪 Hands-on "
      ]
    },
    {
      "cell_type": "code",
      "execution_count": null,
      "metadata": {},
      "outputs": [],
      "source": [
        "import random"
      ]
    },
    {
      "cell_type": "markdown",
      "metadata": {},
      "source": [
        "⚠️ ¿Te salió el mensaje: módulo no encontrado? Prueba en una celda: <br>\n",
        "`!pip install random`<br>\n",
        "`import random`"
      ]
    },
    {
      "cell_type": "markdown",
      "metadata": {},
      "source": [
        "#### En la celda siguiente, crea una lista llamada `sample_list_1` con 80 valores aleatorios. \n",
        "\n",
        "Requisitos:\n",
        "\n",
        "* Cada valor es un número entero comprendido entre 0 y 100.\n",
        "* Cada valor de la lista es único.\n",
        "\n",
        "Imprime `sample_list_1` para revisar sus valores\n",
        "\n",
        "*Sugerencia: usa `random.sample` ([referencia](https://docs.python.org/3/library/random.html#random.sample)).*"
      ]
    },
    {
      "cell_type": "code",
      "execution_count": null,
      "metadata": {},
      "outputs": [],
      "source": []
    },
    {
      "cell_type": "markdown",
      "metadata": {},
      "source": [
        "#### Convierte `sample_list_1` en un conjunto llamado `set1`. Imprime la longitud del conjunto. ¿Su longitud sigue siendo 80?"
      ]
    },
    {
      "cell_type": "code",
      "execution_count": null,
      "metadata": {},
      "outputs": [],
      "source": []
    },
    {
      "cell_type": "markdown",
      "metadata": {},
      "source": [
        "#### Crea otra lista llamada `sample_list_2` con 80 valores aleatorios.\n",
        "\n",
        "Requisitos:\n",
        "\n",
        "* Cada valor es un número entero comprendido entre 0 y 100.\n",
        "* Los valores de la lista no tienen que ser únicos.\n",
        "\n",
        "*Sugerencia: usa un bucle FOR.*"
      ]
    },
    {
      "cell_type": "code",
      "execution_count": null,
      "metadata": {},
      "outputs": [],
      "source": []
    },
    {
      "cell_type": "markdown",
      "metadata": {},
      "source": [
        "#### Convierte `sample_list_2` en un conjunto llamado `set2`. Imprime la longitud del conjunto. ¿Su longitud sigue siendo 80?"
      ]
    },
    {
      "cell_type": "code",
      "execution_count": null,
      "metadata": {},
      "outputs": [],
      "source": []
    },
    {
      "cell_type": "markdown",
      "metadata": {},
      "source": [
        "#### Identifica los elementos presentes en `set1` pero no en `set2`. Asigna los elementos a un nuevo conjunto llamado `set3`."
      ]
    },
    {
      "cell_type": "code",
      "execution_count": null,
      "metadata": {},
      "outputs": [],
      "source": []
    },
    {
      "cell_type": "markdown",
      "metadata": {},
      "source": [
        "#### Identifica los elementos presentes en `set2` pero no en `set1`. Asigna los elementos a un nuevo conjunto llamado `set4`."
      ]
    },
    {
      "cell_type": "code",
      "execution_count": null,
      "metadata": {},
      "outputs": [],
      "source": []
    },
    {
      "cell_type": "markdown",
      "metadata": {},
      "source": [
        "#### Ahora, identifica los elementos compartidos entre `set1` y `set2`. Asigna los elementos a un nuevo conjunto llamado `set5`."
      ]
    },
    {
      "cell_type": "code",
      "execution_count": null,
      "metadata": {},
      "outputs": [],
      "source": []
    },
    {
      "cell_type": "markdown",
      "metadata": {},
      "source": [
        "#### ¿Cuál es la relación entre los siguientes valores:\n",
        "\n",
        "* len(set1)\n",
        "* len(set2)\n",
        "* len(set3)\n",
        "* len(set4)\n",
        "* len(set5)\n",
        "\n",
        "Use una fórmula matemática para representar esa relación. Pruebe su fórmula con código Python. "
      ]
    },
    {
      "cell_type": "markdown",
      "metadata": {},
      "source": [
        "#### Elimina todos los elementos de la siguiente lista de `set1` si están presentes en el conjunto. Imprime los elementos restantes.\n",
        "\n",
        "```\n",
        "list_to_remove = [1, 9, 11, 19, 21, 29, 31, 39, 41, 49, 51, 59, 61, 69, 71, 79, 81, 89, 91, 99]\n",
        "```"
      ]
    },
    {
      "cell_type": "markdown",
      "metadata": {
        "lang": "en"
      },
      "source": [
        "### Diccionarios"
      ]
    },
    {
      "cell_type": "code",
      "execution_count": null,
      "metadata": {},
      "outputs": [],
      "source": []
    },
    {
      "cell_type": "markdown",
      "metadata": {
        "lang": "en"
      },
      "source": [
        "`clear` Elimina todos los elementos del diccionario"
      ]
    },
    {
      "cell_type": "code",
      "execution_count": null,
      "metadata": {},
      "outputs": [],
      "source": []
    },
    {
      "cell_type": "markdown",
      "metadata": {
        "lang": "en"
      },
      "source": [
        "`items()` Devuelve una lista que contiene una tupla para cada par clave-valor"
      ]
    },
    {
      "cell_type": "code",
      "execution_count": null,
      "metadata": {},
      "outputs": [],
      "source": []
    },
    {
      "cell_type": "markdown",
      "metadata": {
        "lang": "en"
      },
      "source": [
        "`keys` Devuelve una lista de las claves en el diccionario"
      ]
    },
    {
      "cell_type": "code",
      "execution_count": null,
      "metadata": {},
      "outputs": [],
      "source": []
    },
    {
      "cell_type": "markdown",
      "metadata": {
        "lang": "en"
      },
      "source": [
        "`values` Devuelve una lista de todos los valores del diccionario"
      ]
    },
    {
      "cell_type": "code",
      "execution_count": null,
      "metadata": {},
      "outputs": [],
      "source": []
    },
    {
      "cell_type": "markdown",
      "metadata": {
        "lang": "en"
      },
      "source": [
        "`pop()` Elimina el elemento con la clave especificada. Me devuelve el valor."
      ]
    },
    {
      "cell_type": "code",
      "execution_count": null,
      "metadata": {},
      "outputs": [],
      "source": []
    },
    {
      "cell_type": "markdown",
      "metadata": {
        "lang": "en"
      },
      "source": [
        "`popitem` Elimina el último par clave-valor insertado"
      ]
    },
    {
      "cell_type": "code",
      "execution_count": null,
      "metadata": {},
      "outputs": [],
      "source": []
    },
    {
      "cell_type": "markdown",
      "metadata": {
        "lang": "en"
      },
      "source": [
        "`update` Actualiza el diccionario con los pares clave-valor especificados"
      ]
    },
    {
      "cell_type": "code",
      "execution_count": null,
      "metadata": {},
      "outputs": [],
      "source": []
    },
    {
      "cell_type": "markdown",
      "metadata": {},
      "source": [
        "### 💪 Hands-on "
      ]
    },
    {
      "cell_type": "code",
      "execution_count": null,
      "metadata": {},
      "outputs": [],
      "source": [
        "# Crear un diccionario de estudiantes"
      ]
    },
    {
      "cell_type": "code",
      "execution_count": null,
      "metadata": {},
      "outputs": [],
      "source": [
        "# Agregar un estudiante con sus calificaciones: María tiene ha sacado un 8 en Matemáticas y un 7 en Biología, Carlos tiene un 6 en Física y un 9 en Matemáticas, José un 3 en Inglés"
      ]
    },
    {
      "cell_type": "code",
      "execution_count": null,
      "metadata": {},
      "outputs": [],
      "source": [
        "# Muestra todos los estudiantes y sus calificaciones: usando print & format"
      ]
    },
    {
      "cell_type": "code",
      "execution_count": null,
      "metadata": {},
      "outputs": [],
      "source": [
        "# Calcular el promedio de un estudiante"
      ]
    },
    {
      "cell_type": "code",
      "execution_count": null,
      "metadata": {},
      "outputs": [],
      "source": [
        "# Actualizar la calificación de un estudiante: Carlos va a revisión y le bajan la nota de Física a un 5"
      ]
    },
    {
      "cell_type": "code",
      "execution_count": null,
      "metadata": {},
      "outputs": [],
      "source": [
        "# Calcula la media de Carlos"
      ]
    },
    {
      "cell_type": "code",
      "execution_count": null,
      "metadata": {},
      "outputs": [],
      "source": [
        "# Calcula la media la clase"
      ]
    },
    {
      "cell_type": "code",
      "execution_count": null,
      "metadata": {},
      "outputs": [],
      "source": [
        "# ¿Qué alumnos han aprobado?"
      ]
    },
    {
      "cell_type": "markdown",
      "metadata": {
        "lang": "en"
      },
      "source": [
        "## Resumen\n",
        "Ahora te toca a ti, ¿qué hemos aprendido hoy?"
      ]
    },
    {
      "cell_type": "code",
      "execution_count": null,
      "metadata": {},
      "outputs": [],
      "source": []
    }
  ],
  "metadata": {
    "author": "https://github.com/breogann",
    "created": "2021",
    "kernelspec": {
      "display_name": "Python 3",
      "language": "python",
      "name": "python3"
    },
    "language_info": {
      "codemirror_mode": {
        "name": "ipython",
        "version": 3
      },
      "file_extension": ".py",
      "mimetype": "text/x-python",
      "name": "python",
      "nbconvert_exporter": "python",
      "pygments_lexer": "ipython3",
      "version": "3.13.9"
    },
    "nbTranslate": {
      "displayLangs": [
        "en",
        "es"
      ],
      "hotkey": "alt-a",
      "langInMainMenu": true,
      "sourceLang": "es",
      "targetLang": "en",
      "useGoogleTranslate": true
    },
    "toc": {
      "base_numbering": 1,
      "nav_menu": {},
      "number_sections": true,
      "sideBar": true,
      "skip_h1_title": true,
      "title_cell": "Table of Contents",
      "title_sidebar": "Contents",
      "toc_cell": true,
      "toc_position": {
        "height": "calc(100% - 180px)",
        "left": "10px",
        "top": "150px",
        "width": "222.891px"
      },
      "toc_section_display": true,
      "toc_window_display": false
    },
    "varInspector": {
      "cols": {
        "lenName": 16,
        "lenType": 16,
        "lenVar": 40
      },
      "kernels_config": {
        "python": {
          "delete_cmd_postfix": "",
          "delete_cmd_prefix": "del ",
          "library": "var_list.py",
          "varRefreshCmd": "print(var_dic_list())"
        },
        "r": {
          "delete_cmd_postfix": ") ",
          "delete_cmd_prefix": "rm(",
          "library": "var_list.r",
          "varRefreshCmd": "cat(var_dic_list()) "
        }
      },
      "types_to_exclude": [
        "module",
        "function",
        "builtin_function_or_method",
        "instance",
        "_Feature"
      ],
      "window_display": false
    }
  },
  "nbformat": 4,
  "nbformat_minor": 4
}
